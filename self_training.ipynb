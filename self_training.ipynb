{
 "cells": [
  {
   "cell_type": "markdown",
   "metadata": {},
   "source": [
    "# Objective\n",
    "\n",
    "Demonstrate how self training can be used to supplement ML classification accuracy when a majority of the data available are unlabeled.\n",
    "\n",
    "25% of data set aside as test set\n",
    "\n",
    "1% of data kept as labeled train set\n",
    "\n",
    "74% of data designated as 'unlabeled' - labels removed\n"
   ]
  },
  {
   "cell_type": "markdown",
   "metadata": {},
   "source": [
    "# Imports"
   ]
  },
  {
   "cell_type": "code",
   "execution_count": 21,
   "metadata": {},
   "outputs": [],
   "source": [
    "import numpy as np\n",
    "import pandas as pd\n",
    "import matplotlib.pyplot as plt\n",
    "\n",
    "from sklearn.linear_model import LogisticRegression\n",
    "\n",
    "from sklearn.metrics import f1_score\n",
    "from sklearn.metrics import plot_confusion_matrix"
   ]
  },
  {
   "cell_type": "markdown",
   "metadata": {},
   "source": [
    "# Obtain Data"
   ]
  },
  {
   "cell_type": "code",
   "execution_count": 78,
   "metadata": {
    "scrolled": false
   },
   "outputs": [
    {
     "name": "stdout",
     "output_type": "stream",
     "text": [
      "<class 'pandas.core.frame.DataFrame'>\n",
      "RangeIndex: 14635 entries, 0 to 14634\n",
      "Data columns (total 25 columns):\n",
      "bmi                    14635 non-null float64\n",
      "Age                    14635 non-null float64\n",
      "asa_status             14635 non-null int64\n",
      "baseline_cancer        14635 non-null int64\n",
      "baseline_charlson      14635 non-null int64\n",
      "baseline_cvd           14635 non-null int64\n",
      "baseline_dementia      14635 non-null int64\n",
      "baseline_diabetes      14635 non-null int64\n",
      "baseline_digestive     14635 non-null int64\n",
      "baseline_osteoart      14635 non-null int64\n",
      "baseline_psych         14635 non-null int64\n",
      "baseline_pulmonary     14635 non-null int64\n",
      "ahrq_ccs               14635 non-null int64\n",
      "ccsComplicationRate    14635 non-null float64\n",
      "ccsMort30Rate          14635 non-null float64\n",
      "complication_rsi       14635 non-null float64\n",
      "dow                    14635 non-null int64\n",
      "gender                 14635 non-null int64\n",
      "hour                   14635 non-null float64\n",
      "month                  14635 non-null int64\n",
      "moonphase              14635 non-null int64\n",
      "mort30                 14635 non-null int64\n",
      "mortality_rsi          14635 non-null float64\n",
      "race                   14635 non-null int64\n",
      "complication           14635 non-null int64\n",
      "dtypes: float64(7), int64(18)\n",
      "memory usage: 2.8 MB\n"
     ]
    }
   ],
   "source": [
    "# Load data\n",
    "\n",
    "df = pd.read_csv('surgical_deepnet.csv')\n",
    "df.info()"
   ]
  },
  {
   "cell_type": "markdown",
   "metadata": {},
   "source": [
    "# Scrub Data"
   ]
  },
  {
   "cell_type": "code",
   "execution_count": 23,
   "metadata": {},
   "outputs": [],
   "source": [
    "# Shuffle the data\n",
    "\n",
    "df = df.sample(frac=1, random_state=15).reset_index(drop=True)\n",
    "\n",
    "# Generate indices for splits\n",
    "\n",
    "test_ind = round(len(df)*0.25)\n",
    "train_ind = test_ind + round(len(df)*0.01)\n",
    "unlabeled_ind = train_ind + round(len(df)*0.74)\n",
    "\n",
    "# Partition the data\n",
    "\n",
    "test = df.iloc[:test_ind]\n",
    "train = df.iloc[test_ind:train_ind]\n",
    "unlabeled = df.iloc[train_ind:unlabeled_ind]\n",
    "\n",
    "# Assign data to train, test, and unlabeled sets\n",
    "\n",
    "X_train = train.drop('complication', axis=1)\n",
    "y_train = train.complication\n",
    "\n",
    "X_unlabeled = unlabeled.drop('complication', axis=1)\n",
    "\n",
    "X_test = test.drop('complication', axis=1)\n",
    "y_test = test.complication"
   ]
  },
  {
   "cell_type": "code",
   "execution_count": 77,
   "metadata": {
    "scrolled": true
   },
   "outputs": [
    {
     "name": "stdout",
     "output_type": "stream",
     "text": [
      "X_train dimensions: (897, 24)\n",
      "y_train dimensions: (897,)\n",
      "\n",
      "X_test dimensions: (3659, 24)\n",
      "y_test dimensions: (3659,)\n",
      "\n",
      "X_unlabeled dimensions: (10079, 24)\n"
     ]
    }
   ],
   "source": [
    "# Check dimensions of data after splitting\n",
    "\n",
    "print(f\"X_train dimensions: {X_train.shape}\")\n",
    "print(f\"y_train dimensions: {y_train.shape}\\n\")\n",
    "\n",
    "print(f\"X_test dimensions: {X_test.shape}\")\n",
    "print(f\"y_test dimensions: {y_test.shape}\\n\")\n",
    "\n",
    "print(f\"X_unlabeled dimensions: {X_unlabeled.shape}\")"
   ]
  },
  {
   "cell_type": "code",
   "execution_count": 30,
   "metadata": {},
   "outputs": [
    {
     "data": {
      "image/png": "[encoded data removed]",
      "text/plain": [
       "<Figure size 432x288 with 1 Axes>"
      ]
     },
     "metadata": {
      "needs_background": "light"
     },
     "output_type": "display_data"
    }
   ],
   "source": [
    "# Visualize class distribution\n",
    "\n",
    "y_train.value_counts().plot(kind='bar')\n",
    "plt.xticks([0,1], ['No Complication', 'Complication'])\n",
    "plt.ylabel('Count');"
   ]
  },
  {
   "cell_type": "markdown",
   "metadata": {},
   "source": [
    "# Initial Model"
   ]
  },
  {
   "cell_type": "code",
   "execution_count": 31,
   "metadata": {},
   "outputs": [],
   "source": [
    "# Logistic Regression Classifier\n",
    "\n",
    "clf = LogisticRegression(max_iter=1000)\n",
    "\n",
    "clf.fit(X_train, y_train)\n",
    "y_hat_test = clf.predict(X_test)\n",
    "y_hat_train = clf.predict(X_train)"
   ]
  },
  {
   "cell_type": "code",
   "execution_count": 32,
   "metadata": {
    "scrolled": false
   },
   "outputs": [
    {
     "name": "stdout",
     "output_type": "stream",
     "text": [
      "Train f1 Score: 0.5846153846153846\n",
      "Test f1 Score: 0.5002908667830134\n"
     ]
    }
   ],
   "source": [
    "train_f1 = f1_score(y_train, y_hat_train)\n",
    "test_f1 = f1_score(y_test, y_hat_test)\n",
    "\n",
    "print(f\"Train f1 Score: {train_f1}\")\n",
    "print(f\"Test f1 Score: {test_f1}\")"
   ]
  },
  {
   "cell_type": "code",
   "execution_count": 68,
   "metadata": {},
   "outputs": [
    {
     "data": {
      "image/png": "[encoded data removed]",
      "text/plain": [
       "<Figure size 432x288 with 2 Axes>"
      ]
     },
     "metadata": {
      "needs_background": "light"
     },
     "output_type": "display_data"
    }
   ],
   "source": [
    "plot_confusion_matrix(clf, X_test, y_test, cmap='Blues', normalize='true',\n",
    "                     display_labels=['No Comp.', 'Complication']);"
   ]
  },
  {
   "cell_type": "code",
   "execution_count": 81,
   "metadata": {},
   "outputs": [
    {
     "data": {
      "text/plain": [
       "array([[0.97009391, 0.02990609],\n",
       "       [0.08165935, 0.91834065],\n",
       "       [0.97009391, 0.02990609],\n",
       "       ...,\n",
       "       [0.52087344, 0.47912656],\n",
       "       [0.34980104, 0.65019896],\n",
       "       [0.21382606, 0.78617394]])"
      ]
     },
     "execution_count": 81,
     "metadata": {},
     "output_type": "execute_result"
    }
   ],
   "source": [
    "# Generate probabilities for each prediction\n",
    "\n",
    "clf.predict_proba(X_test)"
   ]
  },
  {
   "cell_type": "markdown",
   "metadata": {},
   "source": [
    "# Self training procedure using Logistic Regression Classifier"
   ]
  },
  {
   "cell_type": "code",
   "execution_count": 34,
   "metadata": {},
   "outputs": [
    {
     "name": "stdout",
     "output_type": "stream",
     "text": [
      "Iteration 0\n",
      "Train f1: 0.5846153846153846\n",
      "Test f1: 0.5002908667830134\n",
      "Now predicting labels for unlabeled data...\n",
      "42 high-probability predictions added to training data.\n",
      "10788 unlabeled instances remaining.\n",
      "\n",
      "\n",
      "Iteration 1\n",
      "Train f1: 0.7627118644067796\n",
      "Test f1: 0.5037463976945246\n",
      "Now predicting labels for unlabeled data...\n",
      "30 high-probability predictions added to training data.\n",
      "10758 unlabeled instances remaining.\n",
      "\n",
      "\n",
      "Iteration 2\n",
      "Train f1: 0.8181818181818182\n",
      "Test f1: 0.505431675242996\n",
      "Now predicting labels for unlabeled data...\n",
      "20 high-probability predictions added to training data.\n",
      "10738 unlabeled instances remaining.\n",
      "\n",
      "\n",
      "Iteration 3\n",
      "Train f1: 0.847457627118644\n",
      "Test f1: 0.5076835515082526\n",
      "Now predicting labels for unlabeled data...\n",
      "21 high-probability predictions added to training data.\n",
      "10717 unlabeled instances remaining.\n",
      "\n",
      "\n",
      "Iteration 4\n",
      "Train f1: 0.8615384615384616\n",
      "Test f1: 0.5096262740656852\n",
      "Now predicting labels for unlabeled data...\n",
      "22 high-probability predictions added to training data.\n",
      "10695 unlabeled instances remaining.\n",
      "\n",
      "\n",
      "Iteration 5\n",
      "Train f1: 0.8682926829268294\n",
      "Test f1: 0.5093378607809846\n",
      "Now predicting labels for unlabeled data...\n",
      "25 high-probability predictions added to training data.\n",
      "10670 unlabeled instances remaining.\n",
      "\n",
      "\n",
      "Iteration 6\n",
      "Train f1: 0.8744186046511628\n",
      "Test f1: 0.5079006772009029\n",
      "Now predicting labels for unlabeled data...\n",
      "15 high-probability predictions added to training data.\n",
      "10655 unlabeled instances remaining.\n",
      "\n",
      "\n",
      "Iteration 7\n",
      "Train f1: 0.8810572687224669\n",
      "Test f1: 0.5101123595505618\n",
      "Now predicting labels for unlabeled data...\n",
      "23 high-probability predictions added to training data.\n",
      "10632 unlabeled instances remaining.\n",
      "\n",
      "\n",
      "Iteration 8\n",
      "Train f1: 0.888888888888889\n",
      "Test f1: 0.5120448179271708\n",
      "Now predicting labels for unlabeled data...\n",
      "21 high-probability predictions added to training data.\n",
      "10611 unlabeled instances remaining.\n",
      "\n",
      "\n",
      "Iteration 9\n",
      "Train f1: 0.8957528957528959\n",
      "Test f1: 0.5139664804469273\n",
      "Now predicting labels for unlabeled data...\n",
      "24 high-probability predictions added to training data.\n",
      "10587 unlabeled instances remaining.\n",
      "\n",
      "\n",
      "Iteration 10\n",
      "Train f1: 0.9018181818181819\n",
      "Test f1: 0.515303283249861\n",
      "Now predicting labels for unlabeled data...\n",
      "28 high-probability predictions added to training data.\n",
      "10559 unlabeled instances remaining.\n",
      "\n",
      "\n",
      "Iteration 11\n",
      "Train f1: 0.9059233449477352\n",
      "Test f1: 0.5141903171953256\n",
      "Now predicting labels for unlabeled data...\n",
      "26 high-probability predictions added to training data.\n",
      "10533 unlabeled instances remaining.\n",
      "\n",
      "\n",
      "Iteration 12\n",
      "Train f1: 0.9102990033222591\n",
      "Test f1: 0.5136186770428017\n",
      "Now predicting labels for unlabeled data...\n",
      "23 high-probability predictions added to training data.\n",
      "10510 unlabeled instances remaining.\n",
      "\n",
      "\n",
      "Iteration 13\n",
      "Train f1: 0.9131832797427651\n",
      "Test f1: 0.5130483064963909\n",
      "Now predicting labels for unlabeled data...\n",
      "27 high-probability predictions added to training data.\n",
      "10483 unlabeled instances remaining.\n",
      "\n",
      "\n",
      "Iteration 14\n",
      "Train f1: 0.9184290030211482\n",
      "Test f1: 0.511885019347706\n",
      "Now predicting labels for unlabeled data...\n",
      "31 high-probability predictions added to training data.\n",
      "10452 unlabeled instances remaining.\n",
      "\n",
      "\n",
      "Iteration 15\n",
      "Train f1: 0.9248554913294798\n",
      "Test f1: 0.5135583840619812\n",
      "Now predicting labels for unlabeled data...\n",
      "20 high-probability predictions added to training data.\n",
      "10432 unlabeled instances remaining.\n",
      "\n",
      "\n",
      "Iteration 16\n",
      "Train f1: 0.9239436619718309\n",
      "Test f1: 0.513842746400886\n",
      "Now predicting labels for unlabeled data...\n",
      "16 high-probability predictions added to training data.\n",
      "10416 unlabeled instances remaining.\n",
      "\n",
      "\n",
      "Iteration 17\n",
      "Train f1: 0.9260273972602739\n",
      "Test f1: 0.5152017689331122\n",
      "Now predicting labels for unlabeled data...\n",
      "18 high-probability predictions added to training data.\n",
      "10398 unlabeled instances remaining.\n",
      "\n",
      "\n",
      "Iteration 18\n",
      "Train f1: 0.9268292682926829\n",
      "Test f1: 0.5179458862506903\n",
      "Now predicting labels for unlabeled data...\n",
      "17 high-probability predictions added to training data.\n",
      "10381 unlabeled instances remaining.\n",
      "\n",
      "\n",
      "Iteration 19\n",
      "Train f1: 0.9287598944591029\n",
      "Test f1: 0.5170893054024256\n",
      "Now predicting labels for unlabeled data...\n",
      "17 high-probability predictions added to training data.\n",
      "10364 unlabeled instances remaining.\n",
      "\n",
      "\n",
      "Iteration 20\n",
      "Train f1: 0.9302325581395349\n",
      "Test f1: 0.5186813186813188\n",
      "Now predicting labels for unlabeled data...\n",
      "20 high-probability predictions added to training data.\n",
      "10344 unlabeled instances remaining.\n",
      "\n",
      "\n",
      "Iteration 21\n",
      "Train f1: 0.9326683291770573\n",
      "Test f1: 0.5183964854475565\n",
      "Now predicting labels for unlabeled data...\n",
      "21 high-probability predictions added to training data.\n",
      "10323 unlabeled instances remaining.\n",
      "\n",
      "\n",
      "Iteration 22\n",
      "Train f1: 0.9346246973365617\n",
      "Test f1: 0.519736842105263\n",
      "Now predicting labels for unlabeled data...\n",
      "22 high-probability predictions added to training data.\n",
      "10301 unlabeled instances remaining.\n",
      "\n",
      "\n",
      "Iteration 23\n",
      "Train f1: 0.9339622641509433\n",
      "Test f1: 0.5183160196828869\n",
      "Now predicting labels for unlabeled data...\n",
      "27 high-probability predictions added to training data.\n",
      "10274 unlabeled instances remaining.\n",
      "\n",
      "\n",
      "Iteration 24\n",
      "Train f1: 0.9366515837104072\n",
      "Test f1: 0.522591181273816\n",
      "Now predicting labels for unlabeled data...\n",
      "32 high-probability predictions added to training data.\n",
      "10242 unlabeled instances remaining.\n",
      "\n",
      "\n",
      "Iteration 25\n",
      "Train f1: 0.9396551724137931\n",
      "Test f1: 0.5239651416122004\n",
      "Now predicting labels for unlabeled data...\n",
      "20 high-probability predictions added to training data.\n",
      "10222 unlabeled instances remaining.\n",
      "\n",
      "\n",
      "Iteration 26\n",
      "Train f1: 0.9411764705882354\n",
      "Test f1: 0.5250000000000001\n",
      "Now predicting labels for unlabeled data...\n",
      "15 high-probability predictions added to training data.\n",
      "10207 unlabeled instances remaining.\n",
      "\n",
      "\n",
      "Iteration 27\n",
      "Train f1: 0.9419087136929462\n",
      "Test f1: 0.5255712731229598\n",
      "Now predicting labels for unlabeled data...\n",
      "20 high-probability predictions added to training data.\n",
      "10187 unlabeled instances remaining.\n",
      "\n",
      "\n",
      "Iteration 28\n",
      "Train f1: 0.943089430894309\n",
      "Test f1: 0.525515743756786\n",
      "Now predicting labels for unlabeled data...\n",
      "19 high-probability predictions added to training data.\n",
      "10168 unlabeled instances remaining.\n",
      "\n",
      "\n",
      "Iteration 29\n",
      "Train f1: 0.9440000000000001\n",
      "Test f1: 0.5260869565217391\n",
      "Now predicting labels for unlabeled data...\n",
      "14 high-probability predictions added to training data.\n",
      "10154 unlabeled instances remaining.\n",
      "\n",
      "\n",
      "Iteration 30\n",
      "Train f1: 0.942800788954635\n",
      "Test f1: 0.5263730288200108\n",
      "Now predicting labels for unlabeled data...\n",
      "19 high-probability predictions added to training data.\n",
      "10135 unlabeled instances remaining.\n",
      "\n",
      "\n",
      "Iteration 31\n",
      "Train f1: 0.9439071566731142\n",
      "Test f1: 0.5281995661605207\n",
      "Now predicting labels for unlabeled data...\n",
      "11 high-probability predictions added to training data.\n",
      "10124 unlabeled instances remaining.\n",
      "\n",
      "\n",
      "Iteration 32\n",
      "Train f1: 0.944337811900192\n",
      "Test f1: 0.527114967462039\n",
      "Now predicting labels for unlabeled data...\n",
      "9 high-probability predictions added to training data.\n",
      "10115 unlabeled instances remaining.\n",
      "\n",
      "\n",
      "Iteration 33\n",
      "Train f1: 0.9453860640301317\n",
      "Test f1: 0.5281385281385282\n",
      "Now predicting labels for unlabeled data...\n",
      "9 high-probability predictions added to training data.\n",
      "10106 unlabeled instances remaining.\n",
      "\n",
      "\n",
      "Iteration 34\n",
      "Train f1: 0.9463955637707948\n",
      "Test f1: 0.5275675675675675\n",
      "Now predicting labels for unlabeled data...\n",
      "5 high-probability predictions added to training data.\n",
      "10101 unlabeled instances remaining.\n",
      "\n",
      "\n",
      "Iteration 35\n",
      "Train f1: 0.9469835466179158\n",
      "Test f1: 0.5267134376686454\n",
      "Now predicting labels for unlabeled data...\n",
      "2 high-probability predictions added to training data.\n",
      "10099 unlabeled instances remaining.\n",
      "\n",
      "\n",
      "Iteration 36\n",
      "Train f1: 0.9469835466179158\n",
      "Test f1: 0.5267134376686454\n",
      "Now predicting labels for unlabeled data...\n",
      "5 high-probability predictions added to training data.\n",
      "10094 unlabeled instances remaining.\n",
      "\n",
      "\n",
      "Iteration 37\n",
      "Train f1: 0.9471766848816029\n",
      "Test f1: 0.5272825499729876\n",
      "Now predicting labels for unlabeled data...\n",
      "5 high-probability predictions added to training data.\n",
      "10089 unlabeled instances remaining.\n",
      "\n",
      "\n",
      "Iteration 38\n",
      "Train f1: 0.9475587703435805\n",
      "Test f1: 0.5259179265658748\n",
      "Now predicting labels for unlabeled data...\n",
      "4 high-probability predictions added to training data.\n",
      "10085 unlabeled instances remaining.\n",
      "\n",
      "\n",
      "Iteration 39\n",
      "Train f1: 0.9475587703435805\n",
      "Test f1: 0.5272825499729876\n",
      "Now predicting labels for unlabeled data...\n",
      "1 high-probability predictions added to training data.\n",
      "10084 unlabeled instances remaining.\n",
      "\n",
      "\n"
     ]
    },
    {
     "name": "stdout",
     "output_type": "stream",
     "text": [
      "Iteration 40\n",
      "Train f1: 0.9475587703435805\n",
      "Test f1: 0.5254054054054054\n",
      "Now predicting labels for unlabeled data...\n",
      "1 high-probability predictions added to training data.\n",
      "10083 unlabeled instances remaining.\n",
      "\n",
      "\n",
      "Iteration 41\n",
      "Train f1: 0.9475587703435805\n",
      "Test f1: 0.5272825499729876\n",
      "Now predicting labels for unlabeled data...\n",
      "1 high-probability predictions added to training data.\n",
      "10082 unlabeled instances remaining.\n",
      "\n",
      "\n",
      "Iteration 42\n",
      "Train f1: 0.9475587703435805\n",
      "Test f1: 0.5262020529443544\n",
      "Now predicting labels for unlabeled data...\n",
      "2 high-probability predictions added to training data.\n",
      "10080 unlabeled instances remaining.\n",
      "\n",
      "\n",
      "Iteration 43\n",
      "Train f1: 0.947935368043088\n",
      "Test f1: 0.5275675675675675\n",
      "Now predicting labels for unlabeled data...\n",
      "1 high-probability predictions added to training data.\n",
      "10079 unlabeled instances remaining.\n",
      "\n",
      "\n",
      "Iteration 44\n",
      "Train f1: 0.9481216457960644\n",
      "Test f1: 0.5259179265658748\n",
      "Now predicting labels for unlabeled data...\n",
      "0 high-probability predictions added to training data.\n",
      "10079 unlabeled instances remaining.\n",
      "\n",
      "\n"
     ]
    }
   ],
   "source": [
    "iterations = 0\n",
    "\n",
    "train_f1s = []\n",
    "test_f1s = []\n",
    "pseudo_labels = []\n",
    "\n",
    "high_prob = [1] \n",
    "while len(high_prob) > 0:\n",
    "        \n",
    "    # Fit classifier and make train/test predictions\n",
    "    clf = LogisticRegression(max_iter=1000)\n",
    "    clf.fit(X_train, y_train)\n",
    "    y_hat_train = clf.predict(X_train)\n",
    "    y_hat_test = clf.predict(X_test)\n",
    "\n",
    "\n",
    "    train_f1 = f1_score(y_train, y_hat_train)\n",
    "    test_f1 = f1_score(y_test, y_hat_test)\n",
    "    print(f\"Iteration {iterations}\")\n",
    "    print(f\"Train f1: {train_f1}\")\n",
    "    print(f\"Test f1: {test_f1}\")\n",
    "    train_f1s.append(train_f1)\n",
    "    test_f1s.append(test_f1)\n",
    "        \n",
    "    print(f\"Now predicting labels for unlabeled data...\")\n",
    "\n",
    "    pred_probs = clf.predict_proba(X_unlabeled)\n",
    "    preds = clf.predict(X_unlabeled)\n",
    "    prob_0 = pred_probs[:,0]\n",
    "    prob_1 = pred_probs[:,1]\n",
    "\n",
    "    df_pred_prob = pd.DataFrame([])\n",
    "    df_pred_prob['preds'] = preds\n",
    "    df_pred_prob['prob_0'] = prob_0\n",
    "    df_pred_prob['prob_1'] = prob_1\n",
    "    df_pred_prob.index = X_unlabeled.index\n",
    "    \n",
    "    high_prob = pd.concat([df_pred_prob.loc[df_pred_prob['prob_0'] > 0.99],\n",
    "                           df_pred_prob.loc[df_pred_prob['prob_1'] > 0.99]],\n",
    "                          axis=0)\n",
    "    \n",
    "    print(f\"{len(high_prob)} high-probability predictions added to training data.\")\n",
    "    \n",
    "    pseudo_labels.append(len(high_prob))\n",
    "\n",
    "    X_train = pd.concat([X_train, X_unlabeled.loc[high_prob.index]], axis=0)\n",
    "    y_train = pd.concat([y_train, high_prob.preds])      \n",
    "    X_unlabeled = X_unlabeled.drop(index=high_prob.index)\n",
    "    print(f\"{len(X_unlabeled)} unlabeled instances remaining.\")\n",
    "          \n",
    "    iterations += 1\n",
    "          \n",
    "    print(\"\\n\")"
   ]
  },
  {
   "cell_type": "code",
   "execution_count": 65,
   "metadata": {},
   "outputs": [
    {
     "data": {
      "image/png": "[encoded data removed]",
      "text/plain": [
       "<Figure size 432x576 with 2 Axes>"
      ]
     },
     "metadata": {
      "needs_background": "light"
     },
     "output_type": "display_data"
    }
   ],
   "source": [
    "fig, (ax1, ax2) = plt.subplots(nrows=2, ncols=1, figsize=(6,8), sharex=True)\n",
    "ax1.plot(range(iterations), test_f1s)\n",
    "ax1.set_ylabel('f1 Score')\n",
    "ax2.bar(x=range(iterations), height=pseudo_labels)\n",
    "ax2.set_ylabel('Pseudo-Labels Created')\n",
    "ax2.set_xlabel('# Iterations');"
   ]
  },
  {
   "cell_type": "code",
   "execution_count": 66,
   "metadata": {},
   "outputs": [
    {
     "data": {
      "image/png": "[encoded data removed]",
      "text/plain": [
       "<Figure size 432x288 with 2 Axes>"
      ]
     },
     "metadata": {
      "needs_background": "light"
     },
     "output_type": "display_data"
    }
   ],
   "source": [
    "plot_confusion_matrix(clf, X_test, y_test, cmap='Blues', normalize='true',\n",
    "                     display_labels=['No Comp.', 'Complication']);"
   ]
  }
 ],
 "metadata": {
  "kernelspec": {
   "display_name": "learn-env",
   "language": "python",
   "name": "learn-env"
  },
  "language_info": {
   "codemirror_mode": {
    "name": "ipython",
    "version": 3
   },
   "file_extension": ".py",
   "mimetype": "text/x-python",
   "name": "python",
   "nbconvert_exporter": "python",
   "pygments_lexer": "ipython3",
   "version": "3.6.9"
  },
  "toc": {
   "base_numbering": 1,
   "nav_menu": {},
   "number_sections": true,
   "sideBar": true,
   "skip_h1_title": false,
   "title_cell": "Table of Contents",
   "title_sidebar": "Contents",
   "toc_cell": false,
   "toc_position": {},
   "toc_section_display": true,
   "toc_window_display": false
  }
 },
 "nbformat": 4,
 "nbformat_minor": 2
}
